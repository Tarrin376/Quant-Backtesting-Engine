{
 "cells": [
  {
   "cell_type": "markdown",
   "id": "ad4b683c",
   "metadata": {},
   "source": [
    "### Generate Candlestick chart using historical OHLC data"
   ]
  },
  {
   "cell_type": "code",
   "execution_count": 109,
   "id": "5c118be1",
   "metadata": {},
   "outputs": [],
   "source": [
    "import plotly.graph_objects as go\n",
    "import plotly.io as pio\n",
    "import argparse\n",
    "import pandas as pd\n",
    "\n",
    "pio.renderers.default = 'browser'\n",
    "display_data = 2000\n",
    "\n",
    "ohlc_df = pd.read_csv(f'../data/btc.csv', nrows=display_data)\n",
    "fig = go.Figure(\n",
    "    data=[go.Candlestick(\n",
    "        x=ohlc_df['Timestamp'], \n",
    "        open=ohlc_df['Open'], \n",
    "        high=ohlc_df['High'], \n",
    "        low=ohlc_df['Low'], \n",
    "        close=ohlc_df['Close'],\n",
    "        increasing_line_color= '#29d691',\n",
    "        decreasing_line_color= '#ee113e'\n",
    "    )], \n",
    ")"
   ]
  },
  {
   "cell_type": "markdown",
   "id": "ffd8850e",
   "metadata": {},
   "source": [
    "### Plot all closed positions using gray ⚪ for entry time and either 🟢 if PnL > 0 or 🔴 otherwise"
   ]
  },
  {
   "cell_type": "code",
   "execution_count": 112,
   "id": "d5981341",
   "metadata": {},
   "outputs": [],
   "source": [
    "positions_df = pd.read_csv('../results/closed_positions.csv', nrows=display_data // 2)\n",
    "last_ohlc_timestamp = ohlc_df['Timestamp'].iloc[-1]\n",
    "position_id = 1\n",
    "\n",
    "for index, row in positions_df.iterrows():\n",
    "    if row['Exit'] > last_ohlc_timestamp:\n",
    "        continue\n",
    "\n",
    "    color = 'green' if int(row['PnL']) > 0 else 'red'\n",
    "    entry_low = ohlc_df.loc[ohlc_df['Timestamp'] == row['Entry'], 'Low'].values[0]\n",
    "    exit_low = ohlc_df.loc[ohlc_df['Timestamp'] == row['Exit'], 'Low'].values[0]\n",
    "\n",
    "    fig.add_trace(go.Scatter(\n",
    "        x=[row['Entry']],\n",
    "        y=[entry_low],\n",
    "        mode='markers',\n",
    "        marker=dict(\n",
    "            size=22, \n",
    "            color='rgba(131, 131, 131, 0.7)', \n",
    "            symbol='circle'\n",
    "        ),\n",
    "        name='Entry',\n",
    "        text=[f\"Entry: {row['Entry']}<br>Position ID: {position_id}<br>Type: {row['Type'].capitalize()}\"],\n",
    "        hoverinfo='text'\n",
    "    ))\n",
    "\n",
    "    fig.add_trace(go.Scatter(\n",
    "        x=[row['Exit']],\n",
    "        y=[exit_low],\n",
    "        mode='markers',\n",
    "        marker=dict(\n",
    "            size=22,\n",
    "            symbol='circle',\n",
    "            color=['rgba(0, 200, 0, 0.4)' if row['PnL'] > 0 else 'rgba(255, 0, 0, 0.4)']\n",
    "        ),\n",
    "        name='Exit',\n",
    "        text=[f\"Exit: {row['Exit']}<br>Position ID: {position_id}<br>Type: {row['Type'].capitalize()}<br>PnL: {row['PnL']}\"],\n",
    "        hoverinfo='text'\n",
    "    ))\n",
    "\n",
    "    position_id += 1"
   ]
  },
  {
   "cell_type": "markdown",
   "id": "9f6c4f73",
   "metadata": {},
   "source": [
    "### Plot all trades using 🟢▲ for Buy trades and 🔴▼ for Sell trades"
   ]
  },
  {
   "cell_type": "code",
   "execution_count": 113,
   "id": "1a3ca019",
   "metadata": {},
   "outputs": [],
   "source": [
    "trades_df = pd.read_csv('../results/trades.csv', nrows=display_data)\n",
    "\n",
    "for index, row, in trades_df.iterrows():\n",
    "    if row['Timestamp'] > last_ohlc_timestamp:\n",
    "        continue\n",
    "\n",
    "    color = 'green' if row['Side'] == 'Buy' else 'red'\n",
    "    fig.add_trace(go.Scatter(\n",
    "        x=[row['Timestamp']],\n",
    "        y=[row['Price']],\n",
    "        mode='markers',\n",
    "        name=row['Side'],\n",
    "        marker=dict(\n",
    "            symbol=('triangle-down' if row['Side'] == 'Buy' else 'triangle-up'), \n",
    "            size=10, \n",
    "            color=color, \n",
    "            line=dict(width=1, color='black')\n",
    "        ),\n",
    "        hovertemplate=f\"{row['Side']}<br>Price: ${row['Price']}<br>Quantity: {row['Quantity']}<br>Time: {row['Timestamp']}\",\n",
    "    ))\n",
    "\n",
    "fig.update_layout(template=\"ggplot2\", title=dict(text=\"Trading Strategy Performance Visualisation\"))\n",
    "fig.show()"
   ]
  }
 ],
 "metadata": {
  "kernelspec": {
   "display_name": "Python 3",
   "language": "python",
   "name": "python3"
  },
  "language_info": {
   "codemirror_mode": {
    "name": "ipython",
    "version": 3
   },
   "file_extension": ".py",
   "mimetype": "text/x-python",
   "name": "python",
   "nbconvert_exporter": "python",
   "pygments_lexer": "ipython3",
   "version": "3.10.5"
  }
 },
 "nbformat": 4,
 "nbformat_minor": 5
}
