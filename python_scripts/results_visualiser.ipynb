{
 "cells": [
  {
   "cell_type": "markdown",
   "id": "ad4b683c",
   "metadata": {},
   "source": [
    "### Generate Candlestick chart using historical OHLC data"
   ]
  },
  {
   "cell_type": "code",
   "execution_count": 18,
   "id": "5c118be1",
   "metadata": {},
   "outputs": [],
   "source": [
    "import plotly.graph_objects as go\n",
    "import plotly.io as pio\n",
    "import argparse\n",
    "import pandas as pd\n",
    "\n",
    "pio.renderers.default = 'browser'\n",
    "display_data = 2000\n",
    "\n",
    "ohlc_df = pd.read_csv(f'../data/btc.csv', nrows=display_data)\n",
    "fig = go.Figure(\n",
    "    data=[go.Candlestick(\n",
    "        x=ohlc_df['Timestamp'], \n",
    "        open=ohlc_df['Open'], \n",
    "        high=ohlc_df['High'], \n",
    "        low=ohlc_df['Low'], \n",
    "        close=ohlc_df['Close'],\n",
    "        increasing_line_color= '#29d691',\n",
    "        decreasing_line_color= '#ee113e'\n",
    "    )], \n",
    ")\n",
    "\n",
    "last_ohlc_timestamp = ohlc_df['Timestamp'].iloc[-1]"
   ]
  },
  {
   "cell_type": "markdown",
   "id": "ffd8850e",
   "metadata": {},
   "source": [
    "### Plot all closed positions using gray ⚪ for entry time and either 🟢 if PnL > 0 or 🔴 otherwise"
   ]
  },
  {
   "cell_type": "code",
   "execution_count": 19,
   "id": "d5981341",
   "metadata": {},
   "outputs": [],
   "source": [
    "positions_df = pd.read_csv('../results/closed_positions.csv', nrows=display_data // 2)\n",
    "position_id = 1\n",
    "\n",
    "for index, row in positions_df.iterrows():\n",
    "    if row['Exit'] > last_ohlc_timestamp:\n",
    "        break\n",
    "\n",
    "    color = 'green' if int(row['PnL']) > 0 else 'red'\n",
    "    entry_low = ohlc_df.loc[ohlc_df['Timestamp'] == row['Entry'], 'Low'].values[0]\n",
    "    exit_low = ohlc_df.loc[ohlc_df['Timestamp'] == row['Exit'], 'Low'].values[0]\n",
    "\n",
    "    fig.add_trace(go.Scatter(\n",
    "        x=[row['Entry']],\n",
    "        y=[entry_low],\n",
    "        mode='markers',\n",
    "        marker=dict(\n",
    "            size=22, \n",
    "            color='rgba(131, 131, 131, 0.7)', \n",
    "            symbol='circle'\n",
    "        ),\n",
    "        name='Entry',\n",
    "        text=[f\"Entry: {row['Entry']}<br>Position ID: {position_id}<br>Type: {row['Type'].capitalize()}\"],\n",
    "        hoverinfo='text'\n",
    "    ))\n",
    "\n",
    "    fig.add_trace(go.Scatter(\n",
    "        x=[row['Exit']],\n",
    "        y=[exit_low],\n",
    "        mode='markers',\n",
    "        marker=dict(\n",
    "            size=22,\n",
    "            symbol='circle',\n",
    "            color=['rgba(0, 200, 0, 0.4)' if row['PnL'] > 0 else 'rgba(255, 0, 0, 0.4)']\n",
    "        ),\n",
    "        name='Exit',\n",
    "        text=[f\"Exit: {row['Exit']}<br>Position ID: {position_id}<br>Type: {row['Type'].capitalize()}<br>PnL: {row['PnL']}\"],\n",
    "        hoverinfo='text'\n",
    "    ))\n",
    "\n",
    "    position_id += 1"
   ]
  },
  {
   "cell_type": "markdown",
   "id": "9f6c4f73",
   "metadata": {},
   "source": [
    "### Plot all trades using 🟢▲ for Sell trades and 🔴▼ for Buy trades (optional)"
   ]
  },
  {
   "cell_type": "code",
   "execution_count": 20,
   "id": "1a3ca019",
   "metadata": {},
   "outputs": [],
   "source": [
    "trades_df = pd.read_csv('../results/trades.csv', nrows=display_data)\n",
    "\n",
    "for index, row, in trades_df.iterrows():\n",
    "    if row['Timestamp'] > last_ohlc_timestamp:\n",
    "        break\n",
    "\n",
    "    color = 'green' if row['Side'] == 'Sell' else 'red'\n",
    "    fig.add_trace(go.Scatter(\n",
    "        x=[row['Timestamp']],\n",
    "        y=[row['Price']],\n",
    "        mode='markers',\n",
    "        name=row['Side'],\n",
    "        marker=dict(\n",
    "            symbol=('triangle-down' if row['Side'] == 'Buy' else 'triangle-up'), \n",
    "            size=10, \n",
    "            color=color\n",
    "        ),\n",
    "        hovertemplate=f\"{row['Side']}<br>Price: ${row['Price']}<br>Quantity: {row['Quantity']}<br>Time: {row['Timestamp']}\",\n",
    "    ))"
   ]
  },
  {
   "cell_type": "markdown",
   "id": "807d3ef9",
   "metadata": {},
   "source": [
    "### Plot Bollinger Bands indicator on visualisation (optional)"
   ]
  },
  {
   "cell_type": "code",
   "execution_count": 21,
   "id": "62870636",
   "metadata": {},
   "outputs": [],
   "source": [
    "bollinger_bands_df = pd.read_csv('../results/bollinger_bands.csv', nrows=display_data)\n",
    "filtered_bollinger = bollinger_bands_df[bollinger_bands_df['Timestamp'] <= last_ohlc_timestamp]\n",
    "\n",
    "fig.add_trace(go.Scatter(\n",
    "    x=filtered_bollinger['Timestamp'], \n",
    "    y=filtered_bollinger['Lower'],\n",
    "    mode='lines',\n",
    "    name='Bollinger Lower Band',\n",
    "    line=dict(color='rgba(54, 162, 235, 0.8)', width=1.5, dash='dot')\n",
    "))\n",
    "\n",
    "fig.add_trace(go.Scatter(\n",
    "    x=filtered_bollinger['Timestamp'], \n",
    "    y=filtered_bollinger['Middle'],\n",
    "    mode='lines',\n",
    "    name='Moving Average (SMA)',\n",
    "    line=dict(color='rgba(0, 0, 0, 0.6)', width=1.5)\n",
    "))\n",
    "\n",
    "fig.add_trace(go.Scatter(\n",
    "    x=filtered_bollinger['Timestamp'], \n",
    "    y=filtered_bollinger['Upper'],\n",
    "    mode='lines',\n",
    "    name='Bollinger Upper Band',\n",
    "    line=dict(color='rgba(54, 162, 235, 0.8)', width=1.5, dash='dot')\n",
    "))"
   ]
  },
  {
   "cell_type": "markdown",
   "id": "16faca5b",
   "metadata": {},
   "source": [
    "### Render the visualisation"
   ]
  },
  {
   "cell_type": "code",
   "execution_count": 22,
   "id": "bbf3534e",
   "metadata": {},
   "outputs": [],
   "source": [
    "fig.update_layout(template=\"ggplot2\", title=dict(text=\"Trading Strategy Performance Visualisation\"))\n",
    "fig.show()"
   ]
  }
 ],
 "metadata": {
  "kernelspec": {
   "display_name": "Python 3",
   "language": "python",
   "name": "python3"
  },
  "language_info": {
   "codemirror_mode": {
    "name": "ipython",
    "version": 3
   },
   "file_extension": ".py",
   "mimetype": "text/x-python",
   "name": "python",
   "nbconvert_exporter": "python",
   "pygments_lexer": "ipython3",
   "version": "3.10.5"
  }
 },
 "nbformat": 4,
 "nbformat_minor": 5
}
